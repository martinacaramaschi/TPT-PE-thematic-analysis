{
  "nbformat": 4,
  "nbformat_minor": 0,
  "metadata": {
    "colab": {
      "provenance": [],
      "mount_file_id": "1b8gzaTogJYpFSG8feLQXpHBHHmcKzlGc",
      "authorship_tag": "ABX9TyPV/AzhFLxzztB1bLjGUZGp",
      "include_colab_link": true
    },
    "kernelspec": {
      "name": "python3",
      "display_name": "Python 3"
    },
    "language_info": {
      "name": "python"
    }
  },
  "cells": [
    {
      "cell_type": "markdown",
      "metadata": {
        "id": "view-in-github",
        "colab_type": "text"
      },
      "source": [
        "<a href=\"https://colab.research.google.com/github/martinacaramaschi/TPT-PE-thematic-analysis/blob/main/03TPT_text_improver_github.ipynb\" target=\"_parent\"><img src=\"https://colab.research.google.com/assets/colab-badge.svg\" alt=\"Open In Colab\"/></a>"
      ]
    },
    {
      "cell_type": "markdown",
      "source": [
        "# TPT articles text improver\n",
        "*Update: 20 th November 2024*\n",
        "\n",
        "## Overview\n",
        "This notebook aims to improve the text of artilce by removing unneeded text before the title.\n"
      ],
      "metadata": {
        "id": "VMPjCKZRe9dW"
      }
    },
    {
      "cell_type": "markdown",
      "source": [
        "# Importing datasets\n"
      ],
      "metadata": {
        "id": "PPGq4VPDiu20"
      }
    },
    {
      "cell_type": "code",
      "source": [
        "# importing TPT table containg cleaned articles\n",
        "import pickle\n",
        "\n",
        "directory_name = '/content/drive/MyDrive/Colab Notebooks/TPT_PE_review/'\n",
        "document_name = 'TPT_metadata_cleaned_fulltext_cleaned_v2.pkl'\n",
        "\n",
        "with open(directory_name + document_name, 'rb') as f:\n",
        "    tpt_data = pickle.load(f)"
      ],
      "metadata": {
        "id": "yAQVMn-QgmlH"
      },
      "execution_count": null,
      "outputs": []
    },
    {
      "cell_type": "code",
      "source": [
        "# importing PE table containg cleaned articles\n",
        "directory_name = '/content/drive/MyDrive/Colab Notebooks/TPT_PE_review/'\n",
        "document_name = 'physics_education_metadata_with_fulltext_cleaned_v2.pkl'\n",
        "\n",
        "with open(directory_name + document_name, 'rb') as f:\n",
        "    pe_data = pickle.load(f)"
      ],
      "metadata": {
        "id": "EgVOwT94EqaA"
      },
      "execution_count": null,
      "outputs": []
    },
    {
      "cell_type": "markdown",
      "source": [
        "Visualising TPT_data and PE_data"
      ],
      "metadata": {
        "id": "g39LuU8XAzs2"
      }
    },
    {
      "cell_type": "code",
      "source": [
        "tpt_data.info()\n",
        "\n",
        "# TPT 7203 entries / 35 columns"
      ],
      "metadata": {
        "colab": {
          "base_uri": "https://localhost:8080/"
        },
        "id": "jHQOWmD7i6jq",
        "outputId": "40b9ea84-e453-460e-eead-92f89902192d",
        "collapsed": true
      },
      "execution_count": null,
      "outputs": [
        {
          "output_type": "stream",
          "name": "stdout",
          "text": [
            "<class 'pandas.core.frame.DataFrame'>\n",
            "RangeIndex: 7203 entries, 0 to 7202\n",
            "Data columns (total 35 columns):\n",
            " #   Column                  Non-Null Count  Dtype \n",
            "---  ------                  --------------  ----- \n",
            " 0   index                   7203 non-null   int64 \n",
            " 1   filename                7203 non-null   object\n",
            " 2   year                    7203 non-null   int64 \n",
            " 3   title                   7203 non-null   object\n",
            " 4   author_list             7203 non-null   object\n",
            " 5   volume                  7203 non-null   object\n",
            " 6   issue                   7203 non-null   object\n",
            " 7   processed_len           7203 non-null   int64 \n",
            " 8   page                    7203 non-null   object\n",
            " 9   page_len                7203 non-null   int64 \n",
            " 10  overlap                 7203 non-null   int64 \n",
            " 11  pdf2fix                 7203 non-null   int64 \n",
            " 12  pdf_pages               7203 non-null   int64 \n",
            " 13  overlapnext             7203 non-null   int64 \n",
            " 14  overlapprev             7203 non-null   int64 \n",
            " 15  URL                     7203 non-null   object\n",
            " 16  processed               7203 non-null   object\n",
            " 17  raw                     7203 non-null   object\n",
            " 18  page_start              7203 non-null   object\n",
            " 19  page_end                7203 non-null   object\n",
            " 20  publisher               7203 non-null   object\n",
            " 21  filename_orig           7203 non-null   object\n",
            " 22  subtitle                10 non-null     object\n",
            " 23  authors                 7203 non-null   object\n",
            " 24  author                  7203 non-null   object\n",
            " 25  editor                  7203 non-null   object\n",
            " 26  reference-count         7203 non-null   int64 \n",
            " 27  is-referenced-by-count  7203 non-null   int64 \n",
            " 28  issued                  7203 non-null   object\n",
            " 29  link                    7203 non-null   object\n",
            " 30  doi                     7203 non-null   object\n",
            " 31  fulltext                7203 non-null   object\n",
            " 32  first_n_words           7203 non-null   object\n",
            " 33  cleaned_fulltext        7203 non-null   object\n",
            " 34  word_count              7203 non-null   int64 \n",
            "dtypes: int64(12), object(23)\n",
            "memory usage: 1.9+ MB\n"
          ]
        }
      ]
    },
    {
      "cell_type": "code",
      "source": [
        "pe_data.info()\n",
        "# PE 6445 entries / 12 columns"
      ],
      "metadata": {
        "colab": {
          "base_uri": "https://localhost:8080/"
        },
        "collapsed": true,
        "id": "Ic0l_Ve4E56q",
        "outputId": "5f1cadba-80cc-4ad8-b6c4-bfb21bccffa1"
      },
      "execution_count": null,
      "outputs": [
        {
          "output_type": "stream",
          "name": "stdout",
          "text": [
            "<class 'pandas.core.frame.DataFrame'>\n",
            "RangeIndex: 6445 entries, 0 to 6444\n",
            "Data columns (total 12 columns):\n",
            " #   Column            Non-Null Count  Dtype \n",
            "---  ------            --------------  ----- \n",
            " 0   title             6445 non-null   object\n",
            " 1   authors           6445 non-null   object\n",
            " 2   publication_year  6445 non-null   object\n",
            " 3   doi               6445 non-null   object\n",
            " 4   volume            6445 non-null   object\n",
            " 5   issue             6445 non-null   object\n",
            " 6   fpage             6445 non-null   object\n",
            " 7   lpage             6445 non-null   object\n",
            " 8   pdf_filename      6445 non-null   object\n",
            " 9   zip_filename      6445 non-null   object\n",
            " 10  fulltext          6445 non-null   object\n",
            " 11  word_count        6445 non-null   int64 \n",
            "dtypes: int64(1), object(11)\n",
            "memory usage: 604.3+ KB\n"
          ]
        }
      ]
    },
    {
      "cell_type": "markdown",
      "source": [
        "# REMOVING TEXT BEFORE TITLE & AFTER REFERENCES"
      ],
      "metadata": {
        "id": "ZcQQzNoIn34k"
      }
    },
    {
      "cell_type": "code",
      "source": [
        "# defining the function to remove text before\n",
        "def remove_text_beforetitle(row):\n",
        "  old_text = row['fulltext']\n",
        "  old_title = row['title']\n",
        "\n",
        "  if old_title.startswith(\"notes: \"):\n",
        "    old_title = old_title[len(\"notes: \"):]\n",
        "\n",
        "  if old_title.startswith(\"Notes: \"):\n",
        "    old_title = old_title[len(\"Notes: \"):]\n",
        "\n",
        "  if old_title.startswith(\"NOTES: \"):\n",
        "    old_title = old_title[len(\"NOTES: \"):]\n",
        "\n",
        "  # Bringing the first part of the title\n",
        "  # cause it is sufficient to find only its initial part into the text\n",
        "  new_length = int(len(old_title) * (2/3))\n",
        "  old_title = old_title[:new_length]\n",
        "\n",
        "  # Find the starting index of old_title within old_text\n",
        "  start_index = old_text.lower().find(old_title.lower())\n",
        "\n",
        "  flag_before = 0\n",
        "\n",
        "  if start_index != -1:\n",
        "    # Extract the part of old_text starting from start_index\n",
        "    new_text = old_text[start_index:]\n",
        "    flag_before += 1\n",
        "  else:\n",
        "    new_text = old_text\n",
        "  return pd.Series({'extracted_text': new_text, 'flag_before': flag_before})"
      ],
      "metadata": {
        "id": "L9efLpLkLlPh"
      },
      "execution_count": null,
      "outputs": []
    },
    {
      "cell_type": "code",
      "source": [
        "#TPT\n",
        "import pandas as pd # Importing pandas to use pd.Series\n",
        "\n",
        "# Apply the function to each row in tpt_data\n",
        "tpt_data[['extracted_text','flag_before']] = tpt_data.apply(remove_text_beforetitle, axis=1)\n",
        "\n",
        "# Now tpt_data will have a new column 'extracted_text' containing the extracted text\n",
        "print(tpt_data[['fulltext','cleaned_fulltext', 'extracted_text', 'flag_before']].head())"
      ],
      "metadata": {
        "colab": {
          "base_uri": "https://localhost:8080/"
        },
        "collapsed": true,
        "id": "A1F0RF7oJ4CN",
        "outputId": "265b9c8d-5faa-4541-aad8-c516f2babe7e"
      },
      "execution_count": null,
      "outputs": [
        {
          "output_type": "stream",
          "name": "stdout",
          "text": [
            "                                            fulltext  \\\n",
            "0  VOLUME I -NUMBER 1 \\nT H E \\nAPRIL 1963 \\n\\nPH...   \n",
            "1  International Agreements on the Measurement \\n...   \n",
            "2  Weight and Weightlessness \\nA definition of 11...   \n",
            "3  Teaching the Dynamics of Uniform Circular Moti...   \n",
            "4  An Historic Occasion \\nThe establishment of Th...   \n",
            "\n",
            "                                    cleaned_fulltext  \\\n",
            "0  VOLUME I -NUMBER 1 \\nT H E \\nAPRIL 1963 \\n\\nPH...   \n",
            "1  International Agreements on the Measurement \\n...   \n",
            "2  Weight and Weightlessness \\nA definition of 11...   \n",
            "3  Teaching the Dynamics of Uniform Circular Moti...   \n",
            "4  An Historic Occasion \\nThe establishment of Th...   \n",
            "\n",
            "                                      extracted_text  flag_before  \n",
            "0  New Unified Scale for Atomic Masses and Weight...            1  \n",
            "1  International Agreements on the Measurement \\n...            1  \n",
            "2  Weight and Weightlessness \\nA definition of 11...            1  \n",
            "3  Teaching the Dynamics of Uniform Circular Moti...            1  \n",
            "4  editor and his editorial board. A survey of a ...            1  \n"
          ]
        }
      ]
    },
    {
      "cell_type": "markdown",
      "source": [
        "Showing previous and cleaned text"
      ],
      "metadata": {
        "id": "wgE13gjYBYl6"
      }
    },
    {
      "cell_type": "code",
      "source": [
        "tpt_data[['fulltext','cleaned_fulltext', 'extracted_text', 'flag_before']].sample(8)"
      ],
      "metadata": {
        "colab": {
          "base_uri": "https://localhost:8080/",
          "height": 297
        },
        "id": "Md3SkoFHL9Ho",
        "outputId": "dffea5e2-6788-4a05-c9b5-f492d3e7d0b9"
      },
      "execution_count": null,
      "outputs": [
        {
          "output_type": "execute_result",
          "data": {
            "text/plain": [
              "                                               fulltext  \\\n",
              "2747  Educational Materials and Equipment Company: C...   \n",
              "2890  Center of Mass of a \"State\" \\nBill Reid \\nJack...   \n",
              "1503  An unexpected result is obtained when the lens...   \n",
              "6667  Significance of a Recurring Function in Energy...   \n",
              "6423  Treb-Bot: Development and Use of a Trebuchet S...   \n",
              "7200  \\nJochen Kuhn and Patrik Vogt, Column Editors ...   \n",
              "2122  APPARATUS \\nfor Teaching Physics \\nRichard B. ...   \n",
              "6498  AstroNotes \\nMotivating introductory physics s...   \n",
              "\n",
              "                                       cleaned_fulltext  \\\n",
              "2747  Educational Materials and Equipment Company: C...   \n",
              "2890                                                      \n",
              "1503  An unexpected result is obtained when the lens...   \n",
              "6667  Significance of a Recurring Function in Energy...   \n",
              "6423  Treb-Bot: Development and Use of a Trebuchet S...   \n",
              "7200  \\nJochen Kuhn and Patrik Vogt, Column Editors ...   \n",
              "2122  APPARATUS \\nfor Teaching Physics \\nRichard B. ...   \n",
              "6498  AstroNotes \\nMotivating introductory physics s...   \n",
              "\n",
              "                                         extracted_text  flag_before  \n",
              "2747  Educational Materials and Equipment Company: C...            1  \n",
              "2890  Center of Mass of a \"State\" \\nBill Reid \\nJack...            1  \n",
              "1503  Energy in the atmosphere \\nKenneth L. Laws \\n\\...            1  \n",
              "6667  Significance of a Recurring Function in Energy...            1  \n",
              "6423  Treb-Bot: Development and Use of a Trebuchet S...            1  \n",
              "7200  Learning the lens equation using water and sma...            1  \n",
              "2122  APPARATUS \\nfor Teaching Physics \\nRichard B. ...            0  \n",
              "6498  Motivating introductory physics students using...            1  "
            ],
            "text/html": [
              "\n",
              "  <div id=\"df-c1c46374-53a3-4924-a422-55bb6f6133eb\" class=\"colab-df-container\">\n",
              "    <div>\n",
              "<style scoped>\n",
              "    .dataframe tbody tr th:only-of-type {\n",
              "        vertical-align: middle;\n",
              "    }\n",
              "\n",
              "    .dataframe tbody tr th {\n",
              "        vertical-align: top;\n",
              "    }\n",
              "\n",
              "    .dataframe thead th {\n",
              "        text-align: right;\n",
              "    }\n",
              "</style>\n",
              "<table border=\"1\" class=\"dataframe\">\n",
              "  <thead>\n",
              "    <tr style=\"text-align: right;\">\n",
              "      <th></th>\n",
              "      <th>fulltext</th>\n",
              "      <th>cleaned_fulltext</th>\n",
              "      <th>extracted_text</th>\n",
              "      <th>flag_before</th>\n",
              "    </tr>\n",
              "  </thead>\n",
              "  <tbody>\n",
              "    <tr>\n",
              "      <th>2747</th>\n",
              "      <td>Educational Materials and Equipment Company: C...</td>\n",
              "      <td>Educational Materials and Equipment Company: C...</td>\n",
              "      <td>Educational Materials and Equipment Company: C...</td>\n",
              "      <td>1</td>\n",
              "    </tr>\n",
              "    <tr>\n",
              "      <th>2890</th>\n",
              "      <td>Center of Mass of a \"State\" \\nBill Reid \\nJack...</td>\n",
              "      <td></td>\n",
              "      <td>Center of Mass of a \"State\" \\nBill Reid \\nJack...</td>\n",
              "      <td>1</td>\n",
              "    </tr>\n",
              "    <tr>\n",
              "      <th>1503</th>\n",
              "      <td>An unexpected result is obtained when the lens...</td>\n",
              "      <td>An unexpected result is obtained when the lens...</td>\n",
              "      <td>Energy in the atmosphere \\nKenneth L. Laws \\n\\...</td>\n",
              "      <td>1</td>\n",
              "    </tr>\n",
              "    <tr>\n",
              "      <th>6667</th>\n",
              "      <td>Significance of a Recurring Function in Energy...</td>\n",
              "      <td>Significance of a Recurring Function in Energy...</td>\n",
              "      <td>Significance of a Recurring Function in Energy...</td>\n",
              "      <td>1</td>\n",
              "    </tr>\n",
              "    <tr>\n",
              "      <th>6423</th>\n",
              "      <td>Treb-Bot: Development and Use of a Trebuchet S...</td>\n",
              "      <td>Treb-Bot: Development and Use of a Trebuchet S...</td>\n",
              "      <td>Treb-Bot: Development and Use of a Trebuchet S...</td>\n",
              "      <td>1</td>\n",
              "    </tr>\n",
              "    <tr>\n",
              "      <th>7200</th>\n",
              "      <td>\\nJochen Kuhn and Patrik Vogt, Column Editors ...</td>\n",
              "      <td>\\nJochen Kuhn and Patrik Vogt, Column Editors ...</td>\n",
              "      <td>Learning the lens equation using water and sma...</td>\n",
              "      <td>1</td>\n",
              "    </tr>\n",
              "    <tr>\n",
              "      <th>2122</th>\n",
              "      <td>APPARATUS \\nfor Teaching Physics \\nRichard B. ...</td>\n",
              "      <td>APPARATUS \\nfor Teaching Physics \\nRichard B. ...</td>\n",
              "      <td>APPARATUS \\nfor Teaching Physics \\nRichard B. ...</td>\n",
              "      <td>0</td>\n",
              "    </tr>\n",
              "    <tr>\n",
              "      <th>6498</th>\n",
              "      <td>AstroNotes \\nMotivating introductory physics s...</td>\n",
              "      <td>AstroNotes \\nMotivating introductory physics s...</td>\n",
              "      <td>Motivating introductory physics students using...</td>\n",
              "      <td>1</td>\n",
              "    </tr>\n",
              "  </tbody>\n",
              "</table>\n",
              "</div>\n",
              "    <div class=\"colab-df-buttons\">\n",
              "\n",
              "  <div class=\"colab-df-container\">\n",
              "    <button class=\"colab-df-convert\" onclick=\"convertToInteractive('df-c1c46374-53a3-4924-a422-55bb6f6133eb')\"\n",
              "            title=\"Convert this dataframe to an interactive table.\"\n",
              "            style=\"display:none;\">\n",
              "\n",
              "  <svg xmlns=\"http://www.w3.org/2000/svg\" height=\"24px\" viewBox=\"0 -960 960 960\">\n",
              "    <path d=\"M120-120v-720h720v720H120Zm60-500h600v-160H180v160Zm220 220h160v-160H400v160Zm0 220h160v-160H400v160ZM180-400h160v-160H180v160Zm440 0h160v-160H620v160ZM180-180h160v-160H180v160Zm440 0h160v-160H620v160Z\"/>\n",
              "  </svg>\n",
              "    </button>\n",
              "\n",
              "  <style>\n",
              "    .colab-df-container {\n",
              "      display:flex;\n",
              "      gap: 12px;\n",
              "    }\n",
              "\n",
              "    .colab-df-convert {\n",
              "      background-color: #E8F0FE;\n",
              "      border: none;\n",
              "      border-radius: 50%;\n",
              "      cursor: pointer;\n",
              "      display: none;\n",
              "      fill: #1967D2;\n",
              "      height: 32px;\n",
              "      padding: 0 0 0 0;\n",
              "      width: 32px;\n",
              "    }\n",
              "\n",
              "    .colab-df-convert:hover {\n",
              "      background-color: #E2EBFA;\n",
              "      box-shadow: 0px 1px 2px rgba(60, 64, 67, 0.3), 0px 1px 3px 1px rgba(60, 64, 67, 0.15);\n",
              "      fill: #174EA6;\n",
              "    }\n",
              "\n",
              "    .colab-df-buttons div {\n",
              "      margin-bottom: 4px;\n",
              "    }\n",
              "\n",
              "    [theme=dark] .colab-df-convert {\n",
              "      background-color: #3B4455;\n",
              "      fill: #D2E3FC;\n",
              "    }\n",
              "\n",
              "    [theme=dark] .colab-df-convert:hover {\n",
              "      background-color: #434B5C;\n",
              "      box-shadow: 0px 1px 3px 1px rgba(0, 0, 0, 0.15);\n",
              "      filter: drop-shadow(0px 1px 2px rgba(0, 0, 0, 0.3));\n",
              "      fill: #FFFFFF;\n",
              "    }\n",
              "  </style>\n",
              "\n",
              "    <script>\n",
              "      const buttonEl =\n",
              "        document.querySelector('#df-c1c46374-53a3-4924-a422-55bb6f6133eb button.colab-df-convert');\n",
              "      buttonEl.style.display =\n",
              "        google.colab.kernel.accessAllowed ? 'block' : 'none';\n",
              "\n",
              "      async function convertToInteractive(key) {\n",
              "        const element = document.querySelector('#df-c1c46374-53a3-4924-a422-55bb6f6133eb');\n",
              "        const dataTable =\n",
              "          await google.colab.kernel.invokeFunction('convertToInteractive',\n",
              "                                                    [key], {});\n",
              "        if (!dataTable) return;\n",
              "\n",
              "        const docLinkHtml = 'Like what you see? Visit the ' +\n",
              "          '<a target=\"_blank\" href=https://colab.research.google.com/notebooks/data_table.ipynb>data table notebook</a>'\n",
              "          + ' to learn more about interactive tables.';\n",
              "        element.innerHTML = '';\n",
              "        dataTable['output_type'] = 'display_data';\n",
              "        await google.colab.output.renderOutput(dataTable, element);\n",
              "        const docLink = document.createElement('div');\n",
              "        docLink.innerHTML = docLinkHtml;\n",
              "        element.appendChild(docLink);\n",
              "      }\n",
              "    </script>\n",
              "  </div>\n",
              "\n",
              "\n",
              "<div id=\"df-83219558-d57b-4089-84c6-40538fa1281f\">\n",
              "  <button class=\"colab-df-quickchart\" onclick=\"quickchart('df-83219558-d57b-4089-84c6-40538fa1281f')\"\n",
              "            title=\"Suggest charts\"\n",
              "            style=\"display:none;\">\n",
              "\n",
              "<svg xmlns=\"http://www.w3.org/2000/svg\" height=\"24px\"viewBox=\"0 0 24 24\"\n",
              "     width=\"24px\">\n",
              "    <g>\n",
              "        <path d=\"M19 3H5c-1.1 0-2 .9-2 2v14c0 1.1.9 2 2 2h14c1.1 0 2-.9 2-2V5c0-1.1-.9-2-2-2zM9 17H7v-7h2v7zm4 0h-2V7h2v10zm4 0h-2v-4h2v4z\"/>\n",
              "    </g>\n",
              "</svg>\n",
              "  </button>\n",
              "\n",
              "<style>\n",
              "  .colab-df-quickchart {\n",
              "      --bg-color: #E8F0FE;\n",
              "      --fill-color: #1967D2;\n",
              "      --hover-bg-color: #E2EBFA;\n",
              "      --hover-fill-color: #174EA6;\n",
              "      --disabled-fill-color: #AAA;\n",
              "      --disabled-bg-color: #DDD;\n",
              "  }\n",
              "\n",
              "  [theme=dark] .colab-df-quickchart {\n",
              "      --bg-color: #3B4455;\n",
              "      --fill-color: #D2E3FC;\n",
              "      --hover-bg-color: #434B5C;\n",
              "      --hover-fill-color: #FFFFFF;\n",
              "      --disabled-bg-color: #3B4455;\n",
              "      --disabled-fill-color: #666;\n",
              "  }\n",
              "\n",
              "  .colab-df-quickchart {\n",
              "    background-color: var(--bg-color);\n",
              "    border: none;\n",
              "    border-radius: 50%;\n",
              "    cursor: pointer;\n",
              "    display: none;\n",
              "    fill: var(--fill-color);\n",
              "    height: 32px;\n",
              "    padding: 0;\n",
              "    width: 32px;\n",
              "  }\n",
              "\n",
              "  .colab-df-quickchart:hover {\n",
              "    background-color: var(--hover-bg-color);\n",
              "    box-shadow: 0 1px 2px rgba(60, 64, 67, 0.3), 0 1px 3px 1px rgba(60, 64, 67, 0.15);\n",
              "    fill: var(--button-hover-fill-color);\n",
              "  }\n",
              "\n",
              "  .colab-df-quickchart-complete:disabled,\n",
              "  .colab-df-quickchart-complete:disabled:hover {\n",
              "    background-color: var(--disabled-bg-color);\n",
              "    fill: var(--disabled-fill-color);\n",
              "    box-shadow: none;\n",
              "  }\n",
              "\n",
              "  .colab-df-spinner {\n",
              "    border: 2px solid var(--fill-color);\n",
              "    border-color: transparent;\n",
              "    border-bottom-color: var(--fill-color);\n",
              "    animation:\n",
              "      spin 1s steps(1) infinite;\n",
              "  }\n",
              "\n",
              "  @keyframes spin {\n",
              "    0% {\n",
              "      border-color: transparent;\n",
              "      border-bottom-color: var(--fill-color);\n",
              "      border-left-color: var(--fill-color);\n",
              "    }\n",
              "    20% {\n",
              "      border-color: transparent;\n",
              "      border-left-color: var(--fill-color);\n",
              "      border-top-color: var(--fill-color);\n",
              "    }\n",
              "    30% {\n",
              "      border-color: transparent;\n",
              "      border-left-color: var(--fill-color);\n",
              "      border-top-color: var(--fill-color);\n",
              "      border-right-color: var(--fill-color);\n",
              "    }\n",
              "    40% {\n",
              "      border-color: transparent;\n",
              "      border-right-color: var(--fill-color);\n",
              "      border-top-color: var(--fill-color);\n",
              "    }\n",
              "    60% {\n",
              "      border-color: transparent;\n",
              "      border-right-color: var(--fill-color);\n",
              "    }\n",
              "    80% {\n",
              "      border-color: transparent;\n",
              "      border-right-color: var(--fill-color);\n",
              "      border-bottom-color: var(--fill-color);\n",
              "    }\n",
              "    90% {\n",
              "      border-color: transparent;\n",
              "      border-bottom-color: var(--fill-color);\n",
              "    }\n",
              "  }\n",
              "</style>\n",
              "\n",
              "  <script>\n",
              "    async function quickchart(key) {\n",
              "      const quickchartButtonEl =\n",
              "        document.querySelector('#' + key + ' button');\n",
              "      quickchartButtonEl.disabled = true;  // To prevent multiple clicks.\n",
              "      quickchartButtonEl.classList.add('colab-df-spinner');\n",
              "      try {\n",
              "        const charts = await google.colab.kernel.invokeFunction(\n",
              "            'suggestCharts', [key], {});\n",
              "      } catch (error) {\n",
              "        console.error('Error during call to suggestCharts:', error);\n",
              "      }\n",
              "      quickchartButtonEl.classList.remove('colab-df-spinner');\n",
              "      quickchartButtonEl.classList.add('colab-df-quickchart-complete');\n",
              "    }\n",
              "    (() => {\n",
              "      let quickchartButtonEl =\n",
              "        document.querySelector('#df-83219558-d57b-4089-84c6-40538fa1281f button');\n",
              "      quickchartButtonEl.style.display =\n",
              "        google.colab.kernel.accessAllowed ? 'block' : 'none';\n",
              "    })();\n",
              "  </script>\n",
              "</div>\n",
              "\n",
              "    </div>\n",
              "  </div>\n"
            ],
            "application/vnd.google.colaboratory.intrinsic+json": {
              "type": "dataframe",
              "summary": "{\n  \"name\": \"tpt_data[['fulltext','cleaned_fulltext', 'extracted_text', 'flag_before']]\",\n  \"rows\": 8,\n  \"fields\": [\n    {\n      \"column\": \"fulltext\",\n      \"properties\": {\n        \"dtype\": \"string\",\n        \"num_unique_values\": 8,\n        \"samples\": [\n          \"Center of Mass of a \\\"State\\\" \\nBill Reid \\nJacksonville State University, Jacksonville, AL 36265 \\nLhas been suggested1 that an interesting exercise is to find the center of mass of a half-page map of the United States, and we concur. For center-of-mass demonstrations on a large scale, fairly elaborate sets are marketed.2 We have found the following to be suitable for class-sized groups. Further, it capitalizes on the inherent interest a \\nFig. 1. The materials used for finding the center of mass. \\nstudent has in his surrounding locality. \\nWe procured a state highway map from a welcome center and glued it to 56 x 71 cm (22 X 28 in) poster paper with fast-drying rubber cement such as the kind that is used in libraries. (Make sure that the paste is evenly distributed to avoid anomalous \\\"mass concentrations.\\\") When the glue was dry, we sandwiched the resulting sheet between two layers of clear contact paper. The map could now be easily cut out by laying it flat on something expendable, such as several layers ofnewspaper, and using a utility knife (see Fig. 1). \\nTo demonstrate the concept of \\\"center of mass,\\\" a large push-pin is stuck through some town on the map and then loosely into the bulletin board. A string tied to a hex bolt is then tied to the pin, creating a plumb bob. (Make sure that both the map and the plumb bob hang freely without binding.) Using a water-soluble marker and a meter stick, the line along which the plumb bob hangs is recorded (see Fig. 2). Naturally, since the center of mass must hang under the point of support, it is somewhere along the line just drawn. Now insert the pin through another town, again record the plumb bob line, and repeat the process several more times. The lines all intersect at one point, the center of mass, as .illustrated in Fig. 3. The clincher is to insert the pin here and observe that the map no longer prefers any particular orientation, but will hang in any position to which it is turned. \\n\\nFig. 3. The intersection of several lines locates the center of  \\nFig. 2. Lab assistant Deona Evans illustrates use.  mass.  \\n460  THE PHYSICS TEACHER  SEPTEMBER 1989  \\n\\nIt helps to associate the center of mass with some geographical location. I always announce \\\"the center of mass of Alabama is near Maplesville, in Chilton County.\\\" This does not, of course, find the center of mass of the \\n\\nCenter ofMass ofa \\\"State\\\" \\n\\\"real\\\" Alabama, which has varying masses such as mountains, buildings, people, trains, and automobiles scattered over it. Our model is an entity of constant thickness and uniform density but with the same two-dimensional outline as the political boundary of Alabama. \\u2666 \\nReferences \\n1. \\nR.D. Edge, String and Sticky Tape Experiments, (AAPT, College Park, MD, 1987), Experiment 1.15. \\n\\n2. \\nCentral Scientific Company, 1987-88 Physics/Chemistry Catalog, p. 24, Catalog No. 74836. \\n\\n\\n\\n\\nIt Started with a Science Project \\nPaul A. Stokstad \\n10101 Foothills Blvd., Roseville, CA 95678 \\nEditor's note: During a recent AAPT meeting Thomas Rossing happened to ask Paul Stokstad how PASCO scientific began. Tom probably got a longer answer than he ex.pected since Paul had actually started the firm himself. Tom found the story so interesting that he asked Paul to write it down for us. \\nW hen did PASCO begin? One could say it began the first time I visited the New York State Regional Science Fair. (My brother was exhibiting; I was along for the ride.) Back in the late 1950s, some of the favorite projects were \\\"computers\\\" full of clanking relays, which could beat most people at Tic Tac Toe, and model rockets being tested in smoke tunnels. I was hooked, and when my junior year arrived it was my turn to build a science project. Selecting a science project is never easy, but a book of articles from the \\\"Amateur Scientist\\\" section of Scientific American seemed like a good place to start. One project, the Millikan Oil Drop experiment, caught my eye for two reasons. First was the challenge of measuring a quantity so small: the charge on an electron. The second reason was more practical; the project required, among other things, a light source and a long, working-length microscope. Since our family had an old slide projector and a 22-rifle scope sitting around, I figured I was halfway there. By the spring of my junior year the Millikan experiment had been built and was entered in the regional science fair. \\nHere again, one could say this is when PASCO began, for at the science fair one of the judges commented, \\\"This Millikan is easier to use than the apparatus I just purchased. I'd be willing to pay you to build one.\\\" Although it never came to pass, the thought was there, perhaps I could.... Later that year, when filling out my application for Dartmouth College, I answered the question about \\\"What would you like to do for a career?\\\" with the response, \\\"I would like to start my own instrument company.\\\" Certainly that answer was motivated by my desire to impress the admissions committee, but it was also true, if only in a daydreaming sort of way. \\nBut there is even a third time when it could be said PASCO began, and that was very late on a cold February night of my freshman year in 1963. After studying hard for half of a year and still being only an average student, the realization began to sink in that there were a lot of guys at Dartmouth who were much smarter and more motivated than I. Fear set in. Fear that with all this competition I might never get hired. Maybe I should start a company, and therefore have a job when I graduated. Perhaps there were other teachers who would buy my piece of apparatus. It was worth a try. \\nAt this stage I could see only the adventure and none of the pitfalls of starting a company. However, I could afford ignorance, the overhead was very low, my room and board were already paid for. The immediate concern was to design the product, a Millikan Oil Drop Apparatus, that not only worked well but looked professional enough for people to buy. Although some aspects of designing the apparatus could be done in my dorm room, I needed a place to work. Being a physics major, I inquired of the department chairman, the late Francis W. Sears, if it might be possible to use one of the small rooms tucked away behind the sophomore lab. That request was not only granted, but I was given a key to the supply rooms with the simple request that if I damaged anything it should be reported in order that it be repaired before it was needed for another lab. That was an extraordinary amount of trust to place in a freshman. \\nSEPTEMBER 1989 THE PHYSICS TEACHER 461 \\n\\n\\n\",\n          \"\\nJochen Kuhn and Patrik Vogt, Column Editors \\nTechnische Universit\\u00e4t Kaiserslautern, Department of Physics/ Physics Education Research Group, Germany; kuhn@physik.uni.kl.de \\niPhysicsLabs Institute of Teacher Training (ILF), Mainz, Germany, vogt@ilf.bildung-rp.de \\n\\nLearning the lens equation using water and smartphones/tablets \\nJack Freeland and Venkata Rao Krishnamurthi, Department of Physics, University of Arkansas, Fayetteville, AR Yong Wang, Department of Physics, Microelectronics Photonics, and Cell and Molecular Biology, University of Arkansas, Fayetteville, AR \\nD\\nue to their prevalence and convenience, smartphones and tablets have been increasingly useful as tools to carry out new experiments in STEM education, including high school and university physics such as mechanics, acoustics, and optics.1-8 In this article, we present a simple experiment with water and smartphones/tablets. We demonstrate how smartphones and tablets can be used for learning and verifying the lens equation and lensmaker\\u2019s equation to help students understand concepts in ray optics. \\nFor a convex (converging) lens with a focal length of f , if the distances from the lens to an object and its image are r0 and ri (Fig. 1[a]), respectively, the lens equation is \\n\\n(1) Given the radii of the lens surfaces, R1 and R2, the focal length can be obtained from the lensmaker\\u2019s equation10 \\n\\n\\n(2) where n is the refractive index of the lens material, and w > 0 is the thickness of the lens. In this experiment, we will create a thick convex (converging) lens by putting a water droplet on the screen of a smartphone or tablet (Fig. 1[b]). As the screen side of the water droplet lens is flat, we have R1 = \\ue060. As the water droplet can be approximated as part of a sphere (inset of Fig. 1[b]), R2 is approximately the radius of the sphere R. Taking into account that the refractive index of water is n = 1.333, the lens equation (Eq. [1]) is simplified to\\n\\n\\n\\n\\n\\n (3) If the magnification is negative (i.e., ri/ro < 0) we can write\\n\\n\\n = 1 \\u2013 1/M = ro/(3R), (4) where M = |ri/ro|. Thus we expect for constant ro that \\n varies linearly with 1/R. \\nLaboratory experiment \\nIn the laboratory experiment, lenses made of water droplets were created and used to magnify the pixels of the screens of smartphones/tablets, and the lens equation was verified. Briefly, an iPad (6th generation, Model MR7K2LL/A) was placed (with its screen facing up) on a flat surface. Before placing water droplets on the iPad screen, students were advised to open an app (e.g., GoodNotes) to generate a uniform white background, and to draw several horizontal lines on the screen as guides (black lines in Fig. 1[c]). In addition, students were required to write down the desired volumes (in mL) of water droplets (the numbers\\u201410, 12, 14, 16, and 18\\u2014in Fig. 1[c]). The guides and the numbers help students to organize the water droplets and the data to be acquired. Furthermore, a ruler with markings was placed on the iPad close to the edge of the screen (red ruler in Fig. 1[c]). The ruler is needed for estimating and calibrating the pixel size of pictures of water droplets (Fig. 1[c]) in later analysis. \\n\\nWater droplets of different volumes (10 to 18 mL) were added to the iPad screen using a 20 \\nL pipettor (VWR International LLC). Each volume was repeated for four times (i.e., four droplets in a row as shown Fig. 1[c)]. Due to the presence of the water droplet lenses, students observed that the actual pixels \\n(d) of the iPad screen formed virtual images (D) (Figs. 1[b] and 1[c]). This observation was recorded as pictures by the camera of a smartphone (iPhone 7, Model # MN8G2LL/A).  A closer look at single droplets in the acquired pictures clearly showed the pixel images of the iPad screen (Fig. 1[d]). The acquired pictures were then transferred to a computer and quantitatively analyzed. \\nIt is suggested that students take pictures of all the water droplets together (as shown in Fig. 1[c]), instead of separate pictures of individual water droplets. We found that this suggested procedure resulted in higher efficiency and, more importantly, better consistency. Because the pixel size of the acquired pictures depends on the height of the smartphone, a picture including all the water droplets ensures that the height of the smartphone remains constant for all the water droplets in that picture, which improves the consistency among the droplets of different volumes. \\nAnalysis and results \\nEstimation of the radius of curvature of water lenses \\nTo determine the radii of water droplets and magnification of the water lenses, we first quantified the pixel size of the captured pictures. Briefly, the picture was opened in ImageJ (an open-source software)11 and a single color channel was extracted (ImageJ menu: Image \\u2192 Color \\u2192 Split \\u2192 Channels). We then drew a line along the marks of the ruler (yellow line in Fig. 2[a]) and determined the intensity profile (ImageJ menu: Analyze \\u2192 Plot Profile), from which a periodic pattern was observed. We next read out the periods (in unit of pixels) \\n\\n360 \\nTHE PHYSICS TEACHER \\u25c6 Vol. 58, MAY 2020 DOI: 10.1119/1.5145539 \\niPhysicsLabs \\n\\n\\nfrom ImageJ,11 which showed a clear single-peak distribution centered at 26 pixels (Fig. 2[c]). As the periodic pattern corresponds to the mm marks on the ruler, one pixel in the captured pictures was then estimated < 1/26 mm (i.e., the conversion factor was \\n< 1/26 mm/px). The radii of the water droplets were estimated using the oval selection tool and Measure menu in ImageJ,11 as well as the determined conversion factor \\n. Briefly, an oval selection was drawn to overlap with the boundary of the water droplet (Fig. 3[a]), followed by measuring the size of the oval (ImageJ menu: Analyze \\u2192 Measure). From the major and minor axes (a and b) (Fig. 3[b]), the radius of the water droplet was estimated by \\n\\n\\n, which increased as the volume  of the water droplets was higher (Fig. 3[c]). \\nDetermination of the magnification of water lenses \\nThe magnification of the water droplet lenses was determined from the magnified distance (D) and actual distance \\n(d) between the screen pixels, M = D/ d (Fig. 1[b]). The actual distance d can be obtained from the specification of the iPad (pixels per inch or ppi = 264),12 d = 25.4/264 = 0.0962 mm. To get the magnified distance (D), we first inverted the gray scale image (single color channel) of the water droplets and drew yellow  lines horizontally or vertically (Fig. 4[a]). The intensity profile along the line was obtained (Fig. 4[b]), ImageJ menu: Analyze \\u2192 Plot Profile). From the peak-to-peak distances Lpp(in unit of pixels) read out from the intensity profile in InageJ, we calculated the magnified distances of the iPad-screen pixels, D = Lpp 3\\n (in unit of mm), which gave the magnifications of the water lenses using M = D/d. Interestingly, it was observed that the magnified distances between screen pixels (D) and the magnification factor (M) were negatively correlated to the volume of the water droplets (Figs. 4[c]-[d]). \\nConclusions \\nWe calculated \\n= (M\\u20131)/M from the magnifications and found that the relation of \\nvs. 1/R could be fitted very well with a single line with zero-intercept (\\n = k 3 1/R) as shown in Fig. 4(e). This result suggests that Eq. (4) and thus the original lens equations (Eqs. [1] and [3]) were valid. To summarize, we present a simple laboratory experiment to learn and verify the lens equation and lensmaker\\u2019s equation with water and smartphones/tablets. One advantage of this experiment lies in the fact that no additional equipment or optics is needed. Due to the simplicity of this experiment and the prevalence of smartphones nowadays, we expect that the presented experiment is interesting and broadly useful for physics education in high schools, colleges, and universities. \\nAcknowledgment \\nThis work was supported by the University of Arkansas; the iPad used in this work was provided by the Honors College at \\n\\n\\nFig. 4. Verification of lens equation. (a) Inverted picture of a droplet. (b) Intensity profile along the yellow line in panel (a). (c) Dependence of the magnified distance between screen pixels \\n(D) on the volume of water droplets (V). (d) Dependence of the magnification factor (M) of water droplets on their volume (V ). (e) Relation between \\n= (M \\u2013 1)/M and 1/R. Red dashed line is the fitting with a line with zero-intercept. Error bars stand for standard deviation from multiple measurements. \\nthe University of Arkansas. We thank Angeli X. Wang, who observed the lens effects of water droplets during one of her Water Play Days, for inspiring and initiating this project. \\nReferences \\n1. \\nP. Vogt and J. Kuhn, \\u201cAnalyzing simple pendulum phenomena with a smartphone acceleration sensor,\\u201d Phys. Teach. 50, 439 (Oct. 2012).\\n\\n2. \\nP. Vogt and J. Kuhn, \\u201cAnalyzing free fall with a smartphone acceleration sensor,\\u201d Phys. Teach. 50, 182 (March 2012). \\n\\n3. \\nJ. Chevrier et al.,\\u201cTeaching classical mechanics using smartphones,\\u201d Phys. Teach. 51, 376 (Sept. 2013). \\n\\n4. \\nN.-A. Goy et al., \\u201cSurface tension measurements with a smartphone,\\u201d Phys. Teach. 55, 498 (Nov. 2017). \\n\\n5. \\nT. Hergemller and D. Laumann, \\u201cSmartphone magnification attachment: Microscope or magnifying glass,\\u201d Phys. Teach. 55, 361 (Sept. 2017). \\n\\n6. \\nM. Hirth, J. Kuhn, and A. Mller, \\u201cMeasurement of sound velocity made easy using harmonic resonant frequencies with everyday mobile technology,\\u201d Phys. Teach. 53, 120 (Feb. 2015). \\n\\n7. \\nL.-J. Thoms, G. Colicchia, and R. Girwidz, \\u201cAudiometric test with a smartphone,\\u201d Phys. Teach. 56, 478 (Oct. 2018). \\n\\n8. \\nA. Shakur and J. Kraft,\\u201cMeasurement of Coriolis acceleration with a smartphone,\\u201d Phys. Teach. 54, 288 (May 2016). \\n\\n9. \\nE. Mazur, Principles of Physics, Global ed. (Pearson Education Limited, 2014), p. 1072. \\n\\n10. \\nE. Hecht, Optics (Pearson Education, 2003). \\n\\n11. \\nC. A. Schneider,W. S. Rasband, and K.W. Eliceiri, \\u201cNIH Image to ImageJ: 25 years of image analysis,\\u201d Nat. Methods 9, 671 (2012).\\n\\n12. \\niPad (6th generation) - technical specifications. \\n\\n\\nTHE PHYSICS TEACHER \\u25c6 Vol. 58, MAY 2020 \\n\\n\\n\",\n          \"Educational Materials and Equipment Company: Collisions and Simple Harmonic Motion* \\nSection Editor: John S. Risley, Department of Physics, North Carolina Stale University, Raleigh , NC 27695-8202 \\nPublisher: Educational Materials and Equipment Company, Old Mill Plain Road, Danbury, CT 0681 I, (800)3 45-2050 or (203)798-2050. Author: Unknown. Copyright: 1983. Equipment: Apple II( + , e, c, gs); color monitor (preferred but not necessary). Package: one program disk with backup; 4-page Study Guide. Price: $40. Topics: One-and two-dimensional elastic and totally inelastic collisions: simple harmonic motion. \\nProgram Titles: One-Dimensional Collisions, Two-Dimensional Collisions (parts I, 11, and llll. and Simple Harmonic Motion (parts I and II). Physics Level: High school and introductory college physics. Time Involvement: I0-40 min, depending on the program. Type: Simulations and tutorial. Use: Can be used by individual students, small groups, or by teacher on a large screen for class lecture. Interaction: Low. Students type in answers to only a few problems. Rating: Good. A useful problem-solving tutorial with animations. The tutorial is too short and uses a nonstandard problem-solving strategy for determining acceleration and velocity. The displays of simple harmonic motion are slow and repetitive. Although limited to totally inelastic collisions, two-dimensional collisions are treated especially well. \\nT his package covers two important subjects in the study of mechanics: collisions and harmonic motion. The programs use a tutorial format to explain in detail how to solve collision problems using conservation of momentum and energy. After graphic animation illustrates the difference between elastic and inelastic collision, the student is led through several examples. The programs on simple harmonic motion (SHM) relate \\n*This work is support in part by Grant No. MDR 84-704 50 from the National Science Foundation. \\nuniform circular motion to SHM and show students a step-by-step procedure for solving SHM problems. \\nThe programs use a cookbook approach. Formulas are provided, values for variables are given, and calculations performed. However, the simulations of collisions help students relate the math to real situations, and the animation showing the relationship between circular and SHM helps students make the connection between the two types of motion. The software could be improved by adding more problems and permitting more student input. The various parts to the programs (Parts I, II, etc.) refer to additional lines of programming code that, because of insufficient computer memory, must be loaded from the diskette into the computer to complete the tutorial. \\nOne-Dimensional Collisions \\nThis program begins with a graphic representation of two objects (dots on the screen) colliding in one dimension and then explains the difference between an elastic and totally inelastic collision. The notation for the variables is explained, formulas are given, values are assigned, and several problems are solved-mostly without student interaction. \\nThree problems are given for inelastic collisions and three for elastic collisions. Students simply follow along while the program assigns values for masses and initial velocities, writes the conservation of momentum equation and (for the elastic collisions) the conservation of kinetic energy equation, plugs in the values, and calculates the velocities. In the first two problems, the program fails to identify the unknown for which the problem is being solved . Although the unknown is obvious to a teacher, it may not be to a student. \\nIn the one problem in which students are asked to type in the correct answer, they get two chances before the correct answer is displayed. In the last problem, students are given values only for the variables and are asked to solve the problem independently. Although the program does not ask for the answer, it shows the correct answer on the following screen. It does not, however, show the solution. \\nThe program leads students slowly and thoroughly through elastic and inelastic collision problems. It would be better if more interaction were required , if more problems were given, and if these problems were \\n302 THE PHYSICS TEACHER MAY 1988 \\nfollowed by solutions. Other weaknesses are a lack of concern for significant figures and the use of an unfamiliar notation for exponents. \\nThis program is identical to one in General Physics Series Volume 4: Conservation Laws by Cross Educational Software. \\n\\nTwo-Dimensional Collisions \\nThis program begins with a graphic representation of a two-dimensional. totally inelastic collision (see Fig. I). Students are asked to copy the final version of the diagram produced. The program then introduces three problem-solving principles: (I) momentum is conserved, and kinetic energy is not (in inelastic collisions); (2) add momentum, not velocities of bodies; and (3) add x and y components of the momentum separately. Next students are asked to copy a chart listing the variables to be used. No problems are given in this section, but the problem-solving technique is well organized and useful. \\nThe tutorial continues by giving students the formulas for the x and y components of the momentum and the total momentum. Students must have the necessary mathematical background to grasp the use of trigonometric functions to find the x and y components. Students are asked to solve problems by filling in a chart that lists the variables and then following along as the program provides the solution. \\nBecause it covers only totally inelastic collisions, this tutorial leaves students with a partial. overly simplistic conception about two-dimensional collisions. \\nThis program is almost identical to one in General Physics Series Volume 4: Conservation Laws by Cross Educational Software. \\nSimple Harmonic Motion \\nThis program starts with a graphic depiction of an object rotating in a circle beside an object oscillating up and down (see Fig. 2). The animation illustrates the similarities between the two motions and shows how uniform circular motion can be used to solve SHM problems. \\nThe program now presents a nine-step problem-solving technique that gives formulas relating the components of the centripetal acceleration and tangential velocity of an object in circular motion to the acceleration and velocity of an object in SHM. The tutorial leads students through a problem and gives the answers for some of the unknowns but not all. The missing answers ahd solutions are given in the next part (part II). The problem-solving format is clearly described. If students copy the steps and follow them, they should have no trouble solving simple SHM problems. Only one problem is solved: The answer is given, but not the solution. \\nThe problem-solving technique for SHM using uniform circular motion is not standard and could confuse beginning physics students. If a teacher decided to introduce this technique and use the program in class, students would be able to follow the method very easily. \\n\\nCourseware Review \\n1 y \\ntJ (1) \\n'1 ....\\n,:. .\\u00b7 \\nHt-ID HERE ARE THE !I1P0RTANT HtlGLH,. \\n~ -OR -J \\nFig. I. Two-dimensional collision. \\nV<R B >1... .V<u )\\nI I I \\n. . . . \\u00b7\\u2022. \\n. . . '\\u2022 I I \\nI I \\n\\u2022 \\u00b7'\\u2022,, '\\u00b7\\u00b7. I I \\n1 \\n+ \\n. . .. \\n\\nFig. 2. Uniform circular motion and simple harmonic motion. \\nThe SHM program is slow. It cannot be interrupted. Students have to sit through the entire display each time before going on. This same display is shown several times and wastes a lot of time. Students are apt to get restless if they use this program more than once. \\nThis program is identical to one in General Physics Series Volume 5: Circular Motion by Cross Educational Software. \\n\\n\\nManual \\nThe manual gives a cursory review of the program and underlying physics principles. Conclusion \\nOverall the program is good, but it is probably not of sufficient use to warrant a high priority inclusion in a physics software library . \\u25a1 LeVonda S. Ritchie, East Wake High School, Wendall, NC 2 7591 and John S. Risley, Department of Physics , North Carolina State University , Raleigh , NC 27695-8202 . \\nTHE PHYSICS TEACHER MAY 1988 303 \\n\\n\"\n        ],\n        \"semantic_type\": \"\",\n        \"description\": \"\"\n      }\n    },\n    {\n      \"column\": \"cleaned_fulltext\",\n      \"properties\": {\n        \"dtype\": \"string\",\n        \"num_unique_values\": 8,\n        \"samples\": [\n          \"\",\n          \"\\nJochen Kuhn and Patrik Vogt, Column Editors \\nTechnische Universit\\u00e4t Kaiserslautern, Department of Physics/ Physics Education Research Group, Germany; kuhn@physik.uni.kl.de \\niPhysicsLabs Institute of Teacher Training (ILF), Mainz, Germany, vogt@ilf.bildung-rp.de \\n\\nLearning the lens equation using water and smartphones/tablets \\nJack Freeland and Venkata Rao Krishnamurthi, Department of Physics, University of Arkansas, Fayetteville, AR Yong Wang, Department of Physics, Microelectronics Photonics, and Cell and Molecular Biology, University of Arkansas, Fayetteville, AR \\nD\\nue to their prevalence and convenience, smartphones and tablets have been increasingly useful as tools to carry out new experiments in STEM education, including high school and university physics such as mechanics, acoustics, and optics.1-8 In this article, we present a simple experiment with water and smartphones/tablets. We demonstrate how smartphones and tablets can be used for learning and verifying the lens equation and lensmaker\\u2019s equation to help students understand concepts in ray optics. \\nFor a convex (converging) lens with a focal length of f , if the distances from the lens to an object and its image are r0 and ri (Fig. 1[a]), respectively, the lens equation is \\n\\n(1) Given the radii of the lens surfaces, R1 and R2, the focal length can be obtained from the lensmaker\\u2019s equation10 \\n\\n\\n(2) where n is the refractive index of the lens material, and w > 0 is the thickness of the lens. In this experiment, we will create a thick convex (converging) lens by putting a water droplet on the screen of a smartphone or tablet (Fig. 1[b]). As the screen side of the water droplet lens is flat, we have R1 = \\ue060. As the water droplet can be approximated as part of a sphere (inset of Fig. 1[b]), R2 is approximately the radius of the sphere R. Taking into account that the refractive index of water is n = 1.333, the lens equation (Eq. [1]) is simplified to\\n\\n\\n\\n\\n\\n (3) If the magnification is negative (i.e., ri/ro < 0) we can write\\n\\n\\n = 1 \\u2013 1/M = ro/(3R), (4) where M = |ri/ro|. Thus we expect for constant ro that \\n varies linearly with 1/R. \\nLaboratory experiment \\nIn the laboratory experiment, lenses made of water droplets were created and used to magnify the pixels of the screens of smartphones/tablets, and the lens equation was verified. Briefly, an iPad (6th generation, Model MR7K2LL/A) was placed (with its screen facing up) on a flat surface. Before placing water droplets on the iPad screen, students were advised to open an app (e.g., GoodNotes) to generate a uniform white background, and to draw several horizontal lines on the screen as guides (black lines in Fig. 1[c]). In addition, students were required to write down the desired volumes (in mL) of water droplets (the numbers\\u201410, 12, 14, 16, and 18\\u2014in Fig. 1[c]). The guides and the numbers help students to organize the water droplets and the data to be acquired. Furthermore, a ruler with markings was placed on the iPad close to the edge of the screen (red ruler in Fig. 1[c]). The ruler is needed for estimating and calibrating the pixel size of pictures of water droplets (Fig. 1[c]) in later analysis. \\n\\nWater droplets of different volumes (10 to 18 mL) were added to the iPad screen using a 20 \\nL pipettor (VWR International LLC). Each volume was repeated for four times (i.e., four droplets in a row as shown Fig. 1[c)]. Due to the presence of the water droplet lenses, students observed that the actual pixels \\n(d) of the iPad screen formed virtual images (D) (Figs. 1[b] and 1[c]). This observation was recorded as pictures by the camera of a smartphone (iPhone 7, Model # MN8G2LL/A).  A closer look at single droplets in the acquired pictures clearly showed the pixel images of the iPad screen (Fig. 1[d]). The acquired pictures were then transferred to a computer and quantitatively analyzed. \\nIt is suggested that students take pictures of all the water droplets together (as shown in Fig. 1[c]), instead of separate pictures of individual water droplets. We found that this suggested procedure resulted in higher efficiency and, more importantly, better consistency. Because the pixel size of the acquired pictures depends on the height of the smartphone, a picture including all the water droplets ensures that the height of the smartphone remains constant for all the water droplets in that picture, which improves the consistency among the droplets of different volumes. \\nAnalysis and results \\nEstimation of the radius of curvature of water lenses \\nTo determine the radii of water droplets and magnification of the water lenses, we first quantified the pixel size of the captured pictures. Briefly, the picture was opened in ImageJ (an open-source software)11 and a single color channel was extracted (ImageJ menu: Image \\u2192 Color \\u2192 Split \\u2192 Channels). We then drew a line along the marks of the ruler (yellow line in Fig. 2[a]) and determined the intensity profile (ImageJ menu: Analyze \\u2192 Plot Profile), from which a periodic pattern was observed. We next read out the periods (in unit of pixels) \\n\\n360 \\nTHE PHYSICS TEACHER \\u25c6 Vol. 58, MAY 2020 DOI: 10.1119/1.5145539 \\niPhysicsLabs \\n\\n\\nfrom ImageJ,11 which showed a clear single-peak distribution centered at 26 pixels (Fig. 2[c]). As the periodic pattern corresponds to the mm marks on the ruler, one pixel in the captured pictures was then estimated < 1/26 mm (i.e., the conversion factor was \\n< 1/26 mm/px). The radii of the water droplets were estimated using the oval selection tool and Measure menu in ImageJ,11 as well as the determined conversion factor \\n. Briefly, an oval selection was drawn to overlap with the boundary of the water droplet (Fig. 3[a]), followed by measuring the size of the oval (ImageJ menu: Analyze \\u2192 Measure). From the major and minor axes (a and b) (Fig. 3[b]), the radius of the water droplet was estimated by \\n\\n\\n, which increased as the volume  of the water droplets was higher (Fig. 3[c]). \\nDetermination of the magnification of water lenses \\nThe magnification of the water droplet lenses was determined from the magnified distance (D) and actual distance \\n(d) between the screen pixels, M = D/ d (Fig. 1[b]). The actual distance d can be obtained from the specification of the iPad (pixels per inch or ppi = 264),12 d = 25.4/264 = 0.0962 mm. To get the magnified distance (D), we first inverted the gray scale image (single color channel) of the water droplets and drew yellow  lines horizontally or vertically (Fig. 4[a]). The intensity profile along the line was obtained (Fig. 4[b]), ImageJ menu: Analyze \\u2192 Plot Profile). From the peak-to-peak distances Lpp(in unit of pixels) read out from the intensity profile in InageJ, we calculated the magnified distances of the iPad-screen pixels, D = Lpp 3\\n (in unit of mm), which gave the magnifications of the water lenses using M = D/d. Interestingly, it was observed that the magnified distances between screen pixels (D) and the magnification factor (M) were negatively correlated to the volume of the water droplets (Figs. 4[c]-[d]). \\nConclusions \\nWe calculated \\n= (M\\u20131)/M from the magnifications and found that the relation of \\nvs. 1/R could be fitted very well with a single line with zero-intercept (\\n = k 3 1/R) as shown in Fig. 4(e). This result suggests that Eq. (4) and thus the original lens equations (Eqs. [1] and [3]) were valid. To summarize, we present a simple laboratory experiment to learn and verify the lens equation and lensmaker\\u2019s equation with water and smartphones/tablets. One advantage of this experiment lies in the fact that no additional equipment or optics is needed. Due to the simplicity of this experiment and the prevalence of smartphones nowadays, we expect that the presented experiment is interesting and broadly useful for physics education in high schools, colleges, and universities. \\nAcknowledgment \\nThis work was supported by the University of Arkansas; the iPad used in this work was provided by the Honors College at \\n\\n\\nFig. 4. Verification of lens equation. (a) Inverted picture of a droplet. (b) Intensity profile along the yellow line in panel (a). (c) Dependence of the magnified distance between screen pixels \\n(D) on the volume of water droplets (V). (d) Dependence of the magnification factor (M) of water droplets on their volume (V ). (e) Relation between \\n= (M \\u2013 1)/M and 1/R. Red dashed line is the fitting with a line with zero-intercept. Error bars stand for standard deviation from multiple measurements. \\nthe University of Arkansas. We thank Angeli X. Wang, who observed the lens effects of water droplets during one of her Water Play Days, for inspiring and initiating this project. \\nReferences \\n1. \\nP. Vogt and J. Kuhn, \\u201cAnalyzing simple pendulum phenomena with a smartphone acceleration sensor,\\u201d Phys. Teach. 50, 439 (Oct. 2012).\\n\\n2. \\nP. Vogt and J. Kuhn, \\u201cAnalyzing free fall with a smartphone acceleration sensor,\\u201d Phys. Teach. 50, 182 (March 2012). \\n\\n3. \\nJ. Chevrier et al.,\\u201cTeaching classical mechanics using smartphones,\\u201d Phys. Teach. 51, 376 (Sept. 2013). \\n\\n4. \\nN.-A. Goy et al., \\u201cSurface tension measurements with a smartphone,\\u201d Phys. Teach. 55, 498 (Nov. 2017). \\n\\n5. \\nT. Hergemller and D. Laumann, \\u201cSmartphone magnification attachment: Microscope or magnifying glass,\\u201d Phys. Teach. 55, 361 (Sept. 2017). \\n\\n6. \\nM. Hirth, J. Kuhn, and A. Mller, \\u201cMeasurement of sound velocity made easy using harmonic resonant frequencies with everyday mobile technology,\\u201d Phys. Teach. 53, 120 (Feb. 2015). \\n\\n7. \\nL.-J. Thoms, G. Colicchia, and R. Girwidz, \\u201cAudiometric test with a smartphone,\\u201d Phys. Teach. 56, 478 (Oct. 2018). \\n\\n8. \\nA. Shakur and J. Kraft,\\u201cMeasurement of Coriolis acceleration with a smartphone,\\u201d Phys. Teach. 54, 288 (May 2016). \\n\\n9. \\nE. Mazur, \",\n          \"Educational Materials and Equipment Company: Collisions and Simple Harmonic Motion* \\nSection Editor: John S. Risley, Department of Physics, North Carolina Stale University, Raleigh , NC 27695-8202 \\nPublisher: Educational Materials and Equipment Company, Old Mill Plain Road, Danbury, CT 0681 I, (800)3 45-2050 or (203)798-2050. Author: Unknown. Copyright: 1983. Equipment: Apple II( + , e, c, gs); color monitor (preferred but not necessary). Package: one program disk with backup; 4-page Study Guide. Price: $40. Topics: One-and two-dimensional elastic and totally inelastic collisions: simple harmonic motion. \\nProgram Titles: One-Dimensional Collisions, Two-Dimensional Collisions (parts I, 11, and llll. and Simple Harmonic Motion (parts I and II). Physics Level: High school and introductory college physics. Time Involvement: I0-40 min, depending on the program. Type: Simulations and tutorial. Use: Can be used by individual students, small groups, or by teacher on a large screen for class lecture. Interaction: Low. Students type in answers to only a few problems. Rating: Good. A useful problem-solving tutorial with animations. The tutorial is too short and uses a nonstandard problem-solving strategy for determining acceleration and velocity. The displays of simple harmonic motion are slow and repetitive. Although limited to totally inelastic collisions, two-dimensional collisions are treated especially well. \\nT his package covers two important subjects in the study of mechanics: collisions and harmonic motion. The programs use a tutorial format to explain in detail how to solve collision problems using conservation of momentum and energy. After graphic animation illustrates the difference between elastic and inelastic collision, the student is led through several examples. The programs on simple harmonic motion (SHM) relate \\n*This work is support in part by Grant No. MDR 84-704 50 from the National Science Foundation. \\nuniform circular motion to SHM and show students a step-by-step procedure for solving SHM problems. \\nThe programs use a cookbook approach. Formulas are provided, values for variables are given, and calculations performed. However, the simulations of collisions help students relate the math to real situations, and the animation showing the relationship between circular and SHM helps students make the connection between the two types of motion. The software could be improved by adding more problems and permitting more student input. The various parts to the programs (Parts I, II, etc.) refer to additional lines of programming code that, because of insufficient computer memory, must be loaded from the diskette into the computer to complete the tutorial. \\nOne-Dimensional Collisions \\nThis program begins with a graphic representation of two objects (dots on the screen) colliding in one dimension and then explains the difference between an elastic and totally inelastic collision. The notation for the variables is explained, formulas are given, values are assigned, and several problems are solved-mostly without student interaction. \\nThree problems are given for inelastic collisions and three for elastic collisions. Students simply follow along while the program assigns values for masses and initial velocities, writes the conservation of momentum equation and (for the elastic collisions) the conservation of kinetic energy equation, plugs in the values, and calculates the velocities. In the first two problems, the program fails to identify the unknown for which the problem is being solved . Although the unknown is obvious to a teacher, it may not be to a student. \\nIn the one problem in which students are asked to type in the correct answer, they get two chances before the correct answer is displayed. In the last problem, students are given values only for the variables and are asked to solve the problem independently. Although the program does not ask for the answer, it shows the correct answer on the following screen. It does not, however, show the solution. \\nThe program leads students slowly and thoroughly through elastic and inelastic collision problems. It would be better if more interaction were required , if more problems were given, and if these problems were \\n302 THE PHYSICS TEACHER MAY 1988 \\nfollowed by solutions. Other weaknesses are a lack of concern for significant figures and the use of an unfamiliar notation for exponents. \\nThis program is identical to one in General Physics Series Volume 4: Conservation Laws by Cross Educational Software. \\n\\nTwo-Dimensional Collisions \\nThis program begins with a graphic representation of a two-dimensional. totally inelastic collision (see Fig. I). Students are asked to copy the final version of the diagram produced. The program then introduces three problem-solving principles: (I) momentum is conserved, and kinetic energy is not (in inelastic collisions); (2) add momentum, not velocities of bodies; and (3) add x and y components of the momentum separately. Next students are asked to copy a chart listing the variables to be used. No problems are given in this section, but the problem-solving technique is well organized and useful. \\nThe tutorial continues by giving students the formulas for the x and y components of the momentum and the total momentum. Students must have the necessary mathematical background to grasp the use of trigonometric functions to find the x and y components. Students are asked to solve problems by filling in a chart that lists the variables and then following along as the program provides the solution. \\nBecause it covers only totally inelastic collisions, this tutorial leaves students with a partial. overly simplistic conception about two-dimensional collisions. \\nThis program is almost identical to one in General Physics Series Volume 4: Conservation Laws by Cross Educational Software. \\nSimple Harmonic Motion \\nThis program starts with a graphic depiction of an object rotating in a circle beside an object oscillating up and down (see Fig. 2). The animation illustrates the similarities between the two motions and shows how uniform circular motion can be used to solve SHM problems. \\nThe program now presents a nine-step problem-solving technique that gives formulas relating the components of the centripetal acceleration and tangential velocity of an object in circular motion to the acceleration and velocity of an object in SHM. The tutorial leads students through a problem and gives the answers for some of the unknowns but not all. The missing answers ahd solutions are given in the next part (part II). The problem-solving format is clearly described. If students copy the steps and follow them, they should have no trouble solving simple SHM problems. Only one problem is solved: The answer is given, but not the solution. \\nThe problem-solving technique for SHM using uniform circular motion is not standard and could confuse beginning physics students. If a teacher decided to introduce this technique and use the program in class, students would be able to follow the method very easily. \\n\\n\"\n        ],\n        \"semantic_type\": \"\",\n        \"description\": \"\"\n      }\n    },\n    {\n      \"column\": \"extracted_text\",\n      \"properties\": {\n        \"dtype\": \"string\",\n        \"num_unique_values\": 8,\n        \"samples\": [\n          \"Center of Mass of a \\\"State\\\" \\nBill Reid \\nJacksonville State University, Jacksonville, AL 36265 \\nLhas been suggested1 that an interesting exercise is to find the center of mass of a half-page map of the United States, and we concur. For center-of-mass demonstrations on a large scale, fairly elaborate sets are marketed.2 We have found the following to be suitable for class-sized groups. Further, it capitalizes on the inherent interest a \\nFig. 1. The materials used for finding the center of mass. \\nstudent has in his surrounding locality. \\nWe procured a state highway map from a welcome center and glued it to 56 x 71 cm (22 X 28 in) poster paper with fast-drying rubber cement such as the kind that is used in libraries. (Make sure that the paste is evenly distributed to avoid anomalous \\\"mass concentrations.\\\") When the glue was dry, we sandwiched the resulting sheet between two layers of clear contact paper. The map could now be easily cut out by laying it flat on something expendable, such as several layers ofnewspaper, and using a utility knife (see Fig. 1). \\nTo demonstrate the concept of \\\"center of mass,\\\" a large push-pin is stuck through some town on the map and then loosely into the bulletin board. A string tied to a hex bolt is then tied to the pin, creating a plumb bob. (Make sure that both the map and the plumb bob hang freely without binding.) Using a water-soluble marker and a meter stick, the line along which the plumb bob hangs is recorded (see Fig. 2). Naturally, since the center of mass must hang under the point of support, it is somewhere along the line just drawn. Now insert the pin through another town, again record the plumb bob line, and repeat the process several more times. The lines all intersect at one point, the center of mass, as .illustrated in Fig. 3. The clincher is to insert the pin here and observe that the map no longer prefers any particular orientation, but will hang in any position to which it is turned. \\n\\nFig. 3. The intersection of several lines locates the center of  \\nFig. 2. Lab assistant Deona Evans illustrates use.  mass.  \\n460  THE PHYSICS TEACHER  SEPTEMBER 1989  \\n\\nIt helps to associate the center of mass with some geographical location. I always announce \\\"the center of mass of Alabama is near Maplesville, in Chilton County.\\\" This does not, of course, find the center of mass of the \\n\\nCenter ofMass ofa \\\"State\\\" \\n\\\"real\\\" Alabama, which has varying masses such as mountains, buildings, people, trains, and automobiles scattered over it. Our model is an entity of constant thickness and uniform density but with the same two-dimensional outline as the political boundary of Alabama. \\u2666 \\nReferences \\n1. \\nR.D. Edge, String and Sticky Tape Experiments, (AAPT, College Park, MD, 1987), Experiment 1.15. \\n\\n2. \\nCentral Scientific Company, 1987-88 Physics/Chemistry Catalog, p. 24, Catalog No. 74836. \\n\\n\\n\\n\\nIt Started with a Science Project \\nPaul A. Stokstad \\n10101 Foothills Blvd., Roseville, CA 95678 \\nEditor's note: During a recent AAPT meeting Thomas Rossing happened to ask Paul Stokstad how PASCO scientific began. Tom probably got a longer answer than he ex.pected since Paul had actually started the firm himself. Tom found the story so interesting that he asked Paul to write it down for us. \\nW hen did PASCO begin? One could say it began the first time I visited the New York State Regional Science Fair. (My brother was exhibiting; I was along for the ride.) Back in the late 1950s, some of the favorite projects were \\\"computers\\\" full of clanking relays, which could beat most people at Tic Tac Toe, and model rockets being tested in smoke tunnels. I was hooked, and when my junior year arrived it was my turn to build a science project. Selecting a science project is never easy, but a book of articles from the \\\"Amateur Scientist\\\" section of Scientific American seemed like a good place to start. One project, the Millikan Oil Drop experiment, caught my eye for two reasons. First was the challenge of measuring a quantity so small: the charge on an electron. The second reason was more practical; the project required, among other things, a light source and a long, working-length microscope. Since our family had an old slide projector and a 22-rifle scope sitting around, I figured I was halfway there. By the spring of my junior year the Millikan experiment had been built and was entered in the regional science fair. \\nHere again, one could say this is when PASCO began, for at the science fair one of the judges commented, \\\"This Millikan is easier to use than the apparatus I just purchased. I'd be willing to pay you to build one.\\\" Although it never came to pass, the thought was there, perhaps I could.... Later that year, when filling out my application for Dartmouth College, I answered the question about \\\"What would you like to do for a career?\\\" with the response, \\\"I would like to start my own instrument company.\\\" Certainly that answer was motivated by my desire to impress the admissions committee, but it was also true, if only in a daydreaming sort of way. \\nBut there is even a third time when it could be said PASCO began, and that was very late on a cold February night of my freshman year in 1963. After studying hard for half of a year and still being only an average student, the realization began to sink in that there were a lot of guys at Dartmouth who were much smarter and more motivated than I. Fear set in. Fear that with all this competition I might never get hired. Maybe I should start a company, and therefore have a job when I graduated. Perhaps there were other teachers who would buy my piece of apparatus. It was worth a try. \\nAt this stage I could see only the adventure and none of the pitfalls of starting a company. However, I could afford ignorance, the overhead was very low, my room and board were already paid for. The immediate concern was to design the product, a Millikan Oil Drop Apparatus, that not only worked well but looked professional enough for people to buy. Although some aspects of designing the apparatus could be done in my dorm room, I needed a place to work. Being a physics major, I inquired of the department chairman, the late Francis W. Sears, if it might be possible to use one of the small rooms tucked away behind the sophomore lab. That request was not only granted, but I was given a key to the supply rooms with the simple request that if I damaged anything it should be reported in order that it be repaired before it was needed for another lab. That was an extraordinary amount of trust to place in a freshman. \\nSEPTEMBER 1989 THE PHYSICS TEACHER 461 \\n\\n\\n\",\n          \"Learning the lens equation using water and smartphones/tablets \\nJack Freeland and Venkata Rao Krishnamurthi, Department of Physics, University of Arkansas, Fayetteville, AR Yong Wang, Department of Physics, Microelectronics Photonics, and Cell and Molecular Biology, University of Arkansas, Fayetteville, AR \\nD\\nue to their prevalence and convenience, smartphones and tablets have been increasingly useful as tools to carry out new experiments in STEM education, including high school and university physics such as mechanics, acoustics, and optics.1-8 In this article, we present a simple experiment with water and smartphones/tablets. We demonstrate how smartphones and tablets can be used for learning and verifying the lens equation and lensmaker\\u2019s equation to help students understand concepts in ray optics. \\nFor a convex (converging) lens with a focal length of f , if the distances from the lens to an object and its image are r0 and ri (Fig. 1[a]), respectively, the lens equation is \\n\\n(1) Given the radii of the lens surfaces, R1 and R2, the focal length can be obtained from the lensmaker\\u2019s equation10 \\n\\n\\n(2) where n is the refractive index of the lens material, and w > 0 is the thickness of the lens. In this experiment, we will create a thick convex (converging) lens by putting a water droplet on the screen of a smartphone or tablet (Fig. 1[b]). As the screen side of the water droplet lens is flat, we have R1 = \\ue060. As the water droplet can be approximated as part of a sphere (inset of Fig. 1[b]), R2 is approximately the radius of the sphere R. Taking into account that the refractive index of water is n = 1.333, the lens equation (Eq. [1]) is simplified to\\n\\n\\n\\n\\n\\n (3) If the magnification is negative (i.e., ri/ro < 0) we can write\\n\\n\\n = 1 \\u2013 1/M = ro/(3R), (4) where M = |ri/ro|. Thus we expect for constant ro that \\n varies linearly with 1/R. \\nLaboratory experiment \\nIn the laboratory experiment, lenses made of water droplets were created and used to magnify the pixels of the screens of smartphones/tablets, and the lens equation was verified. Briefly, an iPad (6th generation, Model MR7K2LL/A) was placed (with its screen facing up) on a flat surface. Before placing water droplets on the iPad screen, students were advised to open an app (e.g., GoodNotes) to generate a uniform white background, and to draw several horizontal lines on the screen as guides (black lines in Fig. 1[c]). In addition, students were required to write down the desired volumes (in mL) of water droplets (the numbers\\u201410, 12, 14, 16, and 18\\u2014in Fig. 1[c]). The guides and the numbers help students to organize the water droplets and the data to be acquired. Furthermore, a ruler with markings was placed on the iPad close to the edge of the screen (red ruler in Fig. 1[c]). The ruler is needed for estimating and calibrating the pixel size of pictures of water droplets (Fig. 1[c]) in later analysis. \\n\\nWater droplets of different volumes (10 to 18 mL) were added to the iPad screen using a 20 \\nL pipettor (VWR International LLC). Each volume was repeated for four times (i.e., four droplets in a row as shown Fig. 1[c)]. Due to the presence of the water droplet lenses, students observed that the actual pixels \\n(d) of the iPad screen formed virtual images (D) (Figs. 1[b] and 1[c]). This observation was recorded as pictures by the camera of a smartphone (iPhone 7, Model # MN8G2LL/A).  A closer look at single droplets in the acquired pictures clearly showed the pixel images of the iPad screen (Fig. 1[d]). The acquired pictures were then transferred to a computer and quantitatively analyzed. \\nIt is suggested that students take pictures of all the water droplets together (as shown in Fig. 1[c]), instead of separate pictures of individual water droplets. We found that this suggested procedure resulted in higher efficiency and, more importantly, better consistency. Because the pixel size of the acquired pictures depends on the height of the smartphone, a picture including all the water droplets ensures that the height of the smartphone remains constant for all the water droplets in that picture, which improves the consistency among the droplets of different volumes. \\nAnalysis and results \\nEstimation of the radius of curvature of water lenses \\nTo determine the radii of water droplets and magnification of the water lenses, we first quantified the pixel size of the captured pictures. Briefly, the picture was opened in ImageJ (an open-source software)11 and a single color channel was extracted (ImageJ menu: Image \\u2192 Color \\u2192 Split \\u2192 Channels). We then drew a line along the marks of the ruler (yellow line in Fig. 2[a]) and determined the intensity profile (ImageJ menu: Analyze \\u2192 Plot Profile), from which a periodic pattern was observed. We next read out the periods (in unit of pixels) \\n\\n360 \\nTHE PHYSICS TEACHER \\u25c6 Vol. 58, MAY 2020 DOI: 10.1119/1.5145539 \\niPhysicsLabs \\n\\n\\nfrom ImageJ,11 which showed a clear single-peak distribution centered at 26 pixels (Fig. 2[c]). As the periodic pattern corresponds to the mm marks on the ruler, one pixel in the captured pictures was then estimated < 1/26 mm (i.e., the conversion factor was \\n< 1/26 mm/px). The radii of the water droplets were estimated using the oval selection tool and Measure menu in ImageJ,11 as well as the determined conversion factor \\n. Briefly, an oval selection was drawn to overlap with the boundary of the water droplet (Fig. 3[a]), followed by measuring the size of the oval (ImageJ menu: Analyze \\u2192 Measure). From the major and minor axes (a and b) (Fig. 3[b]), the radius of the water droplet was estimated by \\n\\n\\n, which increased as the volume  of the water droplets was higher (Fig. 3[c]). \\nDetermination of the magnification of water lenses \\nThe magnification of the water droplet lenses was determined from the magnified distance (D) and actual distance \\n(d) between the screen pixels, M = D/ d (Fig. 1[b]). The actual distance d can be obtained from the specification of the iPad (pixels per inch or ppi = 264),12 d = 25.4/264 = 0.0962 mm. To get the magnified distance (D), we first inverted the gray scale image (single color channel) of the water droplets and drew yellow  lines horizontally or vertically (Fig. 4[a]). The intensity profile along the line was obtained (Fig. 4[b]), ImageJ menu: Analyze \\u2192 Plot Profile). From the peak-to-peak distances Lpp(in unit of pixels) read out from the intensity profile in InageJ, we calculated the magnified distances of the iPad-screen pixels, D = Lpp 3\\n (in unit of mm), which gave the magnifications of the water lenses using M = D/d. Interestingly, it was observed that the magnified distances between screen pixels (D) and the magnification factor (M) were negatively correlated to the volume of the water droplets (Figs. 4[c]-[d]). \\nConclusions \\nWe calculated \\n= (M\\u20131)/M from the magnifications and found that the relation of \\nvs. 1/R could be fitted very well with a single line with zero-intercept (\\n = k 3 1/R) as shown in Fig. 4(e). This result suggests that Eq. (4) and thus the original lens equations (Eqs. [1] and [3]) were valid. To summarize, we present a simple laboratory experiment to learn and verify the lens equation and lensmaker\\u2019s equation with water and smartphones/tablets. One advantage of this experiment lies in the fact that no additional equipment or optics is needed. Due to the simplicity of this experiment and the prevalence of smartphones nowadays, we expect that the presented experiment is interesting and broadly useful for physics education in high schools, colleges, and universities. \\nAcknowledgment \\nThis work was supported by the University of Arkansas; the iPad used in this work was provided by the Honors College at \\n\\n\\nFig. 4. Verification of lens equation. (a) Inverted picture of a droplet. (b) Intensity profile along the yellow line in panel (a). (c) Dependence of the magnified distance between screen pixels \\n(D) on the volume of water droplets (V). (d) Dependence of the magnification factor (M) of water droplets on their volume (V ). (e) Relation between \\n= (M \\u2013 1)/M and 1/R. Red dashed line is the fitting with a line with zero-intercept. Error bars stand for standard deviation from multiple measurements. \\nthe University of Arkansas. We thank Angeli X. Wang, who observed the lens effects of water droplets during one of her Water Play Days, for inspiring and initiating this project. \\nReferences \\n1. \\nP. Vogt and J. Kuhn, \\u201cAnalyzing simple pendulum phenomena with a smartphone acceleration sensor,\\u201d Phys. Teach. 50, 439 (Oct. 2012).\\n\\n2. \\nP. Vogt and J. Kuhn, \\u201cAnalyzing free fall with a smartphone acceleration sensor,\\u201d Phys. Teach. 50, 182 (March 2012). \\n\\n3. \\nJ. Chevrier et al.,\\u201cTeaching classical mechanics using smartphones,\\u201d Phys. Teach. 51, 376 (Sept. 2013). \\n\\n4. \\nN.-A. Goy et al., \\u201cSurface tension measurements with a smartphone,\\u201d Phys. Teach. 55, 498 (Nov. 2017). \\n\\n5. \\nT. Hergemller and D. Laumann, \\u201cSmartphone magnification attachment: Microscope or magnifying glass,\\u201d Phys. Teach. 55, 361 (Sept. 2017). \\n\\n6. \\nM. Hirth, J. Kuhn, and A. Mller, \\u201cMeasurement of sound velocity made easy using harmonic resonant frequencies with everyday mobile technology,\\u201d Phys. Teach. 53, 120 (Feb. 2015). \\n\\n7. \\nL.-J. Thoms, G. Colicchia, and R. Girwidz, \\u201cAudiometric test with a smartphone,\\u201d Phys. Teach. 56, 478 (Oct. 2018). \\n\\n8. \\nA. Shakur and J. Kraft,\\u201cMeasurement of Coriolis acceleration with a smartphone,\\u201d Phys. Teach. 54, 288 (May 2016). \\n\\n9. \\nE. Mazur, Principles of Physics, Global ed. (Pearson Education Limited, 2014), p. 1072. \\n\\n10. \\nE. Hecht, Optics (Pearson Education, 2003). \\n\\n11. \\nC. A. Schneider,W. S. Rasband, and K.W. Eliceiri, \\u201cNIH Image to ImageJ: 25 years of image analysis,\\u201d Nat. Methods 9, 671 (2012).\\n\\n12. \\niPad (6th generation) - technical specifications. \\n\\n\\nTHE PHYSICS TEACHER \\u25c6 Vol. 58, MAY 2020 \\n\\n\\n\",\n          \"Educational Materials and Equipment Company: Collisions and Simple Harmonic Motion* \\nSection Editor: John S. Risley, Department of Physics, North Carolina Stale University, Raleigh , NC 27695-8202 \\nPublisher: Educational Materials and Equipment Company, Old Mill Plain Road, Danbury, CT 0681 I, (800)3 45-2050 or (203)798-2050. Author: Unknown. Copyright: 1983. Equipment: Apple II( + , e, c, gs); color monitor (preferred but not necessary). Package: one program disk with backup; 4-page Study Guide. Price: $40. Topics: One-and two-dimensional elastic and totally inelastic collisions: simple harmonic motion. \\nProgram Titles: One-Dimensional Collisions, Two-Dimensional Collisions (parts I, 11, and llll. and Simple Harmonic Motion (parts I and II). Physics Level: High school and introductory college physics. Time Involvement: I0-40 min, depending on the program. Type: Simulations and tutorial. Use: Can be used by individual students, small groups, or by teacher on a large screen for class lecture. Interaction: Low. Students type in answers to only a few problems. Rating: Good. A useful problem-solving tutorial with animations. The tutorial is too short and uses a nonstandard problem-solving strategy for determining acceleration and velocity. The displays of simple harmonic motion are slow and repetitive. Although limited to totally inelastic collisions, two-dimensional collisions are treated especially well. \\nT his package covers two important subjects in the study of mechanics: collisions and harmonic motion. The programs use a tutorial format to explain in detail how to solve collision problems using conservation of momentum and energy. After graphic animation illustrates the difference between elastic and inelastic collision, the student is led through several examples. The programs on simple harmonic motion (SHM) relate \\n*This work is support in part by Grant No. MDR 84-704 50 from the National Science Foundation. \\nuniform circular motion to SHM and show students a step-by-step procedure for solving SHM problems. \\nThe programs use a cookbook approach. Formulas are provided, values for variables are given, and calculations performed. However, the simulations of collisions help students relate the math to real situations, and the animation showing the relationship between circular and SHM helps students make the connection between the two types of motion. The software could be improved by adding more problems and permitting more student input. The various parts to the programs (Parts I, II, etc.) refer to additional lines of programming code that, because of insufficient computer memory, must be loaded from the diskette into the computer to complete the tutorial. \\nOne-Dimensional Collisions \\nThis program begins with a graphic representation of two objects (dots on the screen) colliding in one dimension and then explains the difference between an elastic and totally inelastic collision. The notation for the variables is explained, formulas are given, values are assigned, and several problems are solved-mostly without student interaction. \\nThree problems are given for inelastic collisions and three for elastic collisions. Students simply follow along while the program assigns values for masses and initial velocities, writes the conservation of momentum equation and (for the elastic collisions) the conservation of kinetic energy equation, plugs in the values, and calculates the velocities. In the first two problems, the program fails to identify the unknown for which the problem is being solved . Although the unknown is obvious to a teacher, it may not be to a student. \\nIn the one problem in which students are asked to type in the correct answer, they get two chances before the correct answer is displayed. In the last problem, students are given values only for the variables and are asked to solve the problem independently. Although the program does not ask for the answer, it shows the correct answer on the following screen. It does not, however, show the solution. \\nThe program leads students slowly and thoroughly through elastic and inelastic collision problems. It would be better if more interaction were required , if more problems were given, and if these problems were \\n302 THE PHYSICS TEACHER MAY 1988 \\nfollowed by solutions. Other weaknesses are a lack of concern for significant figures and the use of an unfamiliar notation for exponents. \\nThis program is identical to one in General Physics Series Volume 4: Conservation Laws by Cross Educational Software. \\n\\nTwo-Dimensional Collisions \\nThis program begins with a graphic representation of a two-dimensional. totally inelastic collision (see Fig. I). Students are asked to copy the final version of the diagram produced. The program then introduces three problem-solving principles: (I) momentum is conserved, and kinetic energy is not (in inelastic collisions); (2) add momentum, not velocities of bodies; and (3) add x and y components of the momentum separately. Next students are asked to copy a chart listing the variables to be used. No problems are given in this section, but the problem-solving technique is well organized and useful. \\nThe tutorial continues by giving students the formulas for the x and y components of the momentum and the total momentum. Students must have the necessary mathematical background to grasp the use of trigonometric functions to find the x and y components. Students are asked to solve problems by filling in a chart that lists the variables and then following along as the program provides the solution. \\nBecause it covers only totally inelastic collisions, this tutorial leaves students with a partial. overly simplistic conception about two-dimensional collisions. \\nThis program is almost identical to one in General Physics Series Volume 4: Conservation Laws by Cross Educational Software. \\nSimple Harmonic Motion \\nThis program starts with a graphic depiction of an object rotating in a circle beside an object oscillating up and down (see Fig. 2). The animation illustrates the similarities between the two motions and shows how uniform circular motion can be used to solve SHM problems. \\nThe program now presents a nine-step problem-solving technique that gives formulas relating the components of the centripetal acceleration and tangential velocity of an object in circular motion to the acceleration and velocity of an object in SHM. The tutorial leads students through a problem and gives the answers for some of the unknowns but not all. The missing answers ahd solutions are given in the next part (part II). The problem-solving format is clearly described. If students copy the steps and follow them, they should have no trouble solving simple SHM problems. Only one problem is solved: The answer is given, but not the solution. \\nThe problem-solving technique for SHM using uniform circular motion is not standard and could confuse beginning physics students. If a teacher decided to introduce this technique and use the program in class, students would be able to follow the method very easily. \\n\\nCourseware Review \\n1 y \\ntJ (1) \\n'1 ....\\n,:. .\\u00b7 \\nHt-ID HERE ARE THE !I1P0RTANT HtlGLH,. \\n~ -OR -J \\nFig. I. Two-dimensional collision. \\nV<R B >1... .V<u )\\nI I I \\n. . . . \\u00b7\\u2022. \\n. . . '\\u2022 I I \\nI I \\n\\u2022 \\u00b7'\\u2022,, '\\u00b7\\u00b7. I I \\n1 \\n+ \\n. . .. \\n\\nFig. 2. Uniform circular motion and simple harmonic motion. \\nThe SHM program is slow. It cannot be interrupted. Students have to sit through the entire display each time before going on. This same display is shown several times and wastes a lot of time. Students are apt to get restless if they use this program more than once. \\nThis program is identical to one in General Physics Series Volume 5: Circular Motion by Cross Educational Software. \\n\\n\\nManual \\nThe manual gives a cursory review of the program and underlying physics principles. Conclusion \\nOverall the program is good, but it is probably not of sufficient use to warrant a high priority inclusion in a physics software library . \\u25a1 LeVonda S. Ritchie, East Wake High School, Wendall, NC 2 7591 and John S. Risley, Department of Physics , North Carolina State University , Raleigh , NC 27695-8202 . \\nTHE PHYSICS TEACHER MAY 1988 303 \\n\\n\"\n        ],\n        \"semantic_type\": \"\",\n        \"description\": \"\"\n      }\n    },\n    {\n      \"column\": \"flag_before\",\n      \"properties\": {\n        \"dtype\": \"number\",\n        \"std\": 0,\n        \"min\": 0,\n        \"max\": 1,\n        \"num_unique_values\": 2,\n        \"samples\": [\n          0,\n          1\n        ],\n        \"semantic_type\": \"\",\n        \"description\": \"\"\n      }\n    }\n  ]\n}"
            }
          },
          "metadata": {},
          "execution_count": 29
        }
      ]
    },
    {
      "cell_type": "code",
      "source": [
        "sum_of_flag = tpt_data['flag_before'].sum()\n",
        "print(\"Sum of 'flag_before':\", sum_of_flag)\n"
      ],
      "metadata": {
        "colab": {
          "base_uri": "https://localhost:8080/"
        },
        "id": "w1EQTiWnMzxe",
        "outputId": "69fc0422-dff8-4f7c-fd59-9f998044bbb1"
      },
      "execution_count": null,
      "outputs": [
        {
          "output_type": "stream",
          "name": "stdout",
          "text": [
            "Sum of 'flag_before': 5221\n"
          ]
        }
      ]
    },
    {
      "cell_type": "code",
      "source": [
        "#PE\n",
        "import pandas as pd # Importing pandas to use pd.Series\n",
        "\n",
        "# Apply the function to each row in tpt_data\n",
        "pe_data[['extracted_text','flag_before']] = pe_data.apply(remove_text_beforetitle, axis=1)\n",
        "\n",
        "# Now tpt_data will have a new column 'extracted_text' containing the extracted text\n",
        "print(pe_data[['fulltext', 'extracted_text', 'flag_before']].head())"
      ],
      "metadata": {
        "colab": {
          "base_uri": "https://localhost:8080/"
        },
        "id": "-xPfnjhrNCNC",
        "outputId": "9dced546-c278-493f-81d5-7488a40e5b03"
      },
      "execution_count": null,
      "outputs": [
        {
          "output_type": "stream",
          "name": "stdout",
          "text": [
            "                                            fulltext  \\\n",
            "0  www.iop.org/journals/physed \\nThe polar mesosp...   \n",
            "1  Phys Educ Val 16.1981 Printed In GreatBrltaln ...   \n",
            "2  and Howson (1974) suggest we need to reconcile...   \n",
            "3  \\nNEW MATERIALS \\nMaterials, bonding mechanism...   \n",
            "4  The freewheeling cyclist \\nWim Hennekam and Mi...   \n",
            "\n",
            "                                      extracted_text  flag_before  \n",
            "0  The polar mesosphere \\nRay Morris and Damian M...            1  \n",
            "1  Matter for illumination \\n\\nJoan L Hawes \\nWho...            1  \n",
            "2  and Howson (1974) suggest we need to reconcile...            0  \n",
            "3  Materials, bonding mechanisms and physical pro...            1  \n",
            "4  The freewheeling cyclist \\nWim Hennekam and Mi...            0  \n"
          ]
        }
      ]
    },
    {
      "cell_type": "code",
      "source": [
        "sum_of_flag = pe_data['flag_before'].sum()\n",
        "print(\"Sum of 'flag_before':\", sum_of_flag)"
      ],
      "metadata": {
        "colab": {
          "base_uri": "https://localhost:8080/"
        },
        "id": "MukfPcSKNRZ-",
        "outputId": "aa52bcbe-84d9-436e-8e5b-6ea02957a2a8"
      },
      "execution_count": null,
      "outputs": [
        {
          "output_type": "stream",
          "name": "stdout",
          "text": [
            "Sum of 'flag_before': 5002\n"
          ]
        }
      ]
    },
    {
      "cell_type": "code",
      "source": [
        "tpt_data.info()\n",
        "pe_data.info()"
      ],
      "metadata": {
        "colab": {
          "base_uri": "https://localhost:8080/"
        },
        "collapsed": true,
        "id": "scNuRulJNldG",
        "outputId": "02c572f8-22ce-4a4b-c565-4c512dd7e0b7"
      },
      "execution_count": null,
      "outputs": [
        {
          "output_type": "stream",
          "name": "stdout",
          "text": [
            "<class 'pandas.core.frame.DataFrame'>\n",
            "RangeIndex: 7203 entries, 0 to 7202\n",
            "Data columns (total 37 columns):\n",
            " #   Column                  Non-Null Count  Dtype \n",
            "---  ------                  --------------  ----- \n",
            " 0   index                   7203 non-null   int64 \n",
            " 1   filename                7203 non-null   object\n",
            " 2   year                    7203 non-null   int64 \n",
            " 3   title                   7203 non-null   object\n",
            " 4   author_list             7203 non-null   object\n",
            " 5   volume                  7203 non-null   object\n",
            " 6   issue                   7203 non-null   object\n",
            " 7   processed_len           7203 non-null   int64 \n",
            " 8   page                    7203 non-null   object\n",
            " 9   page_len                7203 non-null   int64 \n",
            " 10  overlap                 7203 non-null   int64 \n",
            " 11  pdf2fix                 7203 non-null   int64 \n",
            " 12  pdf_pages               7203 non-null   int64 \n",
            " 13  overlapnext             7203 non-null   int64 \n",
            " 14  overlapprev             7203 non-null   int64 \n",
            " 15  URL                     7203 non-null   object\n",
            " 16  processed               7203 non-null   object\n",
            " 17  raw                     7203 non-null   object\n",
            " 18  page_start              7203 non-null   object\n",
            " 19  page_end                7203 non-null   object\n",
            " 20  publisher               7203 non-null   object\n",
            " 21  filename_orig           7203 non-null   object\n",
            " 22  subtitle                10 non-null     object\n",
            " 23  authors                 7203 non-null   object\n",
            " 24  author                  7203 non-null   object\n",
            " 25  editor                  7203 non-null   object\n",
            " 26  reference-count         7203 non-null   int64 \n",
            " 27  is-referenced-by-count  7203 non-null   int64 \n",
            " 28  issued                  7203 non-null   object\n",
            " 29  link                    7203 non-null   object\n",
            " 30  doi                     7203 non-null   object\n",
            " 31  fulltext                7203 non-null   object\n",
            " 32  first_n_words           7203 non-null   object\n",
            " 33  cleaned_fulltext        7203 non-null   object\n",
            " 34  word_count              7203 non-null   int64 \n",
            " 35  extracted_text          7203 non-null   object\n",
            " 36  flag_before             7203 non-null   int64 \n",
            "dtypes: int64(13), object(24)\n",
            "memory usage: 2.0+ MB\n",
            "<class 'pandas.core.frame.DataFrame'>\n",
            "RangeIndex: 6445 entries, 0 to 6444\n",
            "Data columns (total 14 columns):\n",
            " #   Column            Non-Null Count  Dtype \n",
            "---  ------            --------------  ----- \n",
            " 0   title             6445 non-null   object\n",
            " 1   authors           6445 non-null   object\n",
            " 2   publication_year  6445 non-null   object\n",
            " 3   doi               6445 non-null   object\n",
            " 4   volume            6445 non-null   object\n",
            " 5   issue             6445 non-null   object\n",
            " 6   fpage             6445 non-null   object\n",
            " 7   lpage             6445 non-null   object\n",
            " 8   pdf_filename      6445 non-null   object\n",
            " 9   zip_filename      6445 non-null   object\n",
            " 10  fulltext          6445 non-null   object\n",
            " 11  word_count        6445 non-null   int64 \n",
            " 12  extracted_text    6445 non-null   object\n",
            " 13  flag_before       6445 non-null   int64 \n",
            "dtypes: int64(2), object(12)\n",
            "memory usage: 705.0+ KB\n"
          ]
        }
      ]
    },
    {
      "cell_type": "markdown",
      "source": [
        "## Saving final datasets"
      ],
      "metadata": {
        "id": "SHFXHHD0NbA4"
      }
    },
    {
      "cell_type": "code",
      "source": [
        "# Save the cleaned DataFrame as a pickle file\n",
        "with open(directory_name + 'physics_education_metadata_final.pkl', 'wb') as f:\n",
        "    pickle.dump(pe_data, f)\n",
        "\n",
        "with open(directory_name + 'TPT_metadata_final.pkl', 'wb') as f:\n",
        "    pickle.dump(tpt_data, f)"
      ],
      "metadata": {
        "id": "xoJRH02gNaOb"
      },
      "execution_count": null,
      "outputs": []
    }
  ]
}